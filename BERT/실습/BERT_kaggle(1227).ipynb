{
  "nbformat": 4,
  "nbformat_minor": 0,
  "metadata": {
    "colab": {
      "name": "BERT_kaggle(1227).ipynb",
      "provenance": [],
      "collapsed_sections": []
    },
    "kernelspec": {
      "name": "python3",
      "display_name": "Python 3"
    },
    "language_info": {
      "name": "python"
    },
    "accelerator": "GPU"
  },
  "cells": [
    {
      "cell_type": "markdown",
      "source": [
        "tf-hub BERT Layer를 이용한 분류문제\n",
        "\n",
        "리뷰에 관한 내용이 dog에 관한 것인지, cat에 관한 것인지, 그 외인지 분류하는 문제\n",
        "\n",
        "(from kaggle dataset)\n",
        "\n",
        "https://ebbnflow.tistory.com/163"
      ],
      "metadata": {
        "id": "Nb_q5E0QCFV5"
      }
    },
    {
      "cell_type": "code",
      "execution_count": 1,
      "metadata": {
        "colab": {
          "base_uri": "https://localhost:8080/"
        },
        "id": "Hc5f8MlB5VEg",
        "outputId": "4d2555f3-02c1-4994-fc53-f3d860910810"
      },
      "outputs": [
        {
          "output_type": "stream",
          "name": "stdout",
          "text": [
            "TensorFlow 1.x selected.\n"
          ]
        }
      ],
      "source": [
        "%tensorflow_version 1.x"
      ]
    },
    {
      "cell_type": "code",
      "source": [
        "!wget -q https://raw.githubusercontent.com/google-research/bert/master/modeling.py \n",
        "!wget -q https://raw.githubusercontent.com/google-research/bert/master/optimization.py \n",
        "!wget -q https://raw.githubusercontent.com/google-research/bert/master/run_classifier.py \n",
        "!wget -q https://raw.githubusercontent.com/google-research/bert/master/tokenization.py "
      ],
      "metadata": {
        "id": "clf627755d4d"
      },
      "execution_count": 2,
      "outputs": []
    },
    {
      "cell_type": "code",
      "source": [
        "# 필요한 패키지 임포트\n",
        "import os\n",
        "import numpy as np\n",
        "import pandas as pd\n",
        "import datetime\n",
        "import sys\n",
        "import zipfile\n",
        "import modeling\n",
        "import optimization\n",
        "import run_classifier\n",
        "import tokenization\n",
        " \n",
        "from tokenization import FullTokenizer\n",
        "from sklearn.preprocessing import LabelEncoder\n",
        "import tensorflow as tf\n",
        "from sklearn.model_selection import train_test_split\n",
        " \n",
        "import tensorflow_hub as hub\n",
        "from tqdm import tqdm_notebook\n",
        "from tensorflow.keras import backend as K\n",
        "from tensorflow.keras.models import Model"
      ],
      "metadata": {
        "colab": {
          "base_uri": "https://localhost:8080/"
        },
        "id": "SdV89hcl53H8",
        "outputId": "7f48f001-a907-4bb7-9c31-c1d985daf8e5"
      },
      "execution_count": 3,
      "outputs": [
        {
          "output_type": "stream",
          "name": "stdout",
          "text": [
            "WARNING:tensorflow:From /content/optimization.py:87: The name tf.train.Optimizer is deprecated. Please use tf.compat.v1.train.Optimizer instead.\n",
            "\n"
          ]
        }
      ]
    },
    {
      "cell_type": "code",
      "source": [
        "# BERT모델과 tokenization의 파라미터 지정\n",
        "sess = tf.Session()\n",
        " \n",
        "bert_path = \"https://tfhub.dev/google/bert_uncased_L-12_H-768_A-12/1\"\n",
        "max_seq_length = 128 #최장 토큰 길이"
      ],
      "metadata": {
        "id": "fIdZFubZ56gS"
      },
      "execution_count": 4,
      "outputs": []
    },
    {
      "cell_type": "code",
      "source": [
        "from google.colab import drive\n",
        "drive.mount('/content/drive')"
      ],
      "metadata": {
        "colab": {
          "base_uri": "https://localhost:8080/"
        },
        "id": "yEl89K4J-hsF",
        "outputId": "cc4d4b60-f891-41a6-92bc-e6a25780a3f0"
      },
      "execution_count": 5,
      "outputs": [
        {
          "output_type": "stream",
          "name": "stdout",
          "text": [
            "Drive already mounted at /content/drive; to attempt to forcibly remount, call drive.mount(\"/content/drive\", force_remount=True).\n"
          ]
        }
      ]
    },
    {
      "cell_type": "code",
      "source": [
        "# 파일 로드\n",
        "train_df = pd.read_csv('/content/drive/My Drive/VAIV/BERT/train/train.csv', index_col='id')\n",
        "val_df = pd.read_csv('/content/drive/My Drive/VAIV/BERT/valid/valid.csv', index_col='id')\n",
        "test_df = pd.read_csv('/content/drive/My Drive/VAIV/BERT/test/test.csv', index_col='id')"
      ],
      "metadata": {
        "id": "YhzWYERU7m0F"
      },
      "execution_count": 6,
      "outputs": []
    },
    {
      "cell_type": "code",
      "source": [
        "label_encoder = LabelEncoder().fit(pd.concat([train_df['label'], val_df['label']]))\n",
        "#문자 label을 숫자로 encoding 시킨다."
      ],
      "metadata": {
        "id": "rlyfZfROC0Ae"
      },
      "execution_count": 7,
      "outputs": []
    },
    {
      "cell_type": "code",
      "source": [
        "X_train_val, X_test = pd.concat([train_df['text'], val_df['text']]).values, test_df['text'].values"
      ],
      "metadata": {
        "id": "cIJi8gBrCuv5"
      },
      "execution_count": 8,
      "outputs": []
    },
    {
      "cell_type": "code",
      "source": [
        "y_train_val = label_encoder.fit_transform(pd.concat([train_df['label'], val_df['label']]))\n",
        "#train data set에 대한 scaling"
      ],
      "metadata": {
        "id": "FXGl3r2sESBW"
      },
      "execution_count": 9,
      "outputs": []
    },
    {
      "cell_type": "code",
      "source": [
        "X_train, X_val, y_train, y_val = train_test_split(\n",
        "        X_train_val,y_train_val, test_size=0.1, random_state=0, stratify = y_train_val\n",
        "        )\n",
        "#random state : data 분할 시 shuffle random seed\n",
        "#stratify : 지정한 data 분할 유지, 나누어진 데이터셋도 기존 클래스 비율과 같아야 함."
      ],
      "metadata": {
        "id": "4Fpg01CdFUTQ"
      },
      "execution_count": 10,
      "outputs": []
    },
    {
      "cell_type": "code",
      "source": [
        "train_text = X_train\n",
        "train_text = [' '.join(t.split()[0:max_seq_length]) for t in train_text]\n",
        "train_text = np.array(train_text, dtype=object)[:, np.newaxis]\n",
        "train_label = y_train\n",
        " \n",
        "val_text = X_val\n",
        "val_text = [' '.join(t.split()[0:max_seq_length]) for t in val_text]\n",
        "val_text = np.array(val_text, dtype=object)[:, np.newaxis]\n",
        "val_label = y_val\n",
        " \n",
        "test_text = X_test\n",
        "test_text = [' '.join(t.split()[0:max_seq_length]) for t in test_text]\n",
        "test_text = np.array(test_text, dtype=object)[:, np.newaxis]\n",
        "\n",
        "#join 하는 부분은 max_seq_length를 넘는 token값을 제거하기 위한 수단\n",
        "#np.newaxis는 차원을 하나 추가하는 방법인데 train_text[0]으로 출력하면 dtype이, [0][0]으로 출력하면 string만 나오게끔 설정됨 (1차 => 2차원)\n",
        "\n",
        "#아무튼 위의 과정들은 다 전처리 관련한 것임 (scaling, max_token 넘는거 빼기, 파일 형식 바꿔주기 등등)"
      ],
      "metadata": {
        "id": "1A6XDQQeF08i"
      },
      "execution_count": 11,
      "outputs": []
    },
    {
      "cell_type": "code",
      "source": [
        "X_train[0]"
      ],
      "metadata": {
        "colab": {
          "base_uri": "https://localhost:8080/",
          "height": 53
        },
        "id": "xixByFEqMMLm",
        "outputId": "21d908ae-f7f5-4547-dbbd-a220a3ce4e20"
      },
      "execution_count": 12,
      "outputs": [
        {
          "output_type": "execute_result",
          "data": {
            "application/vnd.google.colaboratory.intrinsic+json": {
              "type": "string"
            },
            "text/plain": [
              "\"I got this as a supplement for skin and coat for my dogs. I couldn't tell a differenceat all in their coat or shedding.My mom used the remainder for her dogs and said it did seem to keep fleas off.\""
            ]
          },
          "metadata": {},
          "execution_count": 12
        }
      ]
    },
    {
      "cell_type": "code",
      "source": [
        "import tensorflow as tf\n",
        "import tensorflow_hub as hub\n",
        "import os\n",
        "import re\n",
        "import numpy as np\n",
        "from tqdm import tqdm_notebook #진행률 모듈인 듯??\n",
        "from keras import backend as K\n",
        "from keras.layers import Layer"
      ],
      "metadata": {
        "colab": {
          "base_uri": "https://localhost:8080/"
        },
        "id": "wECwYKn-H9Nj",
        "outputId": "afbc818e-01d5-48f9-c60c-ffbc81af888a"
      },
      "execution_count": 13,
      "outputs": [
        {
          "output_type": "stream",
          "name": "stderr",
          "text": [
            "Using TensorFlow backend.\n"
          ]
        }
      ]
    },
    {
      "cell_type": "code",
      "source": [
        "class BertLayer(Layer):\n",
        "    \n",
        "    def __init__(self, n_fine_tune_layers=10, tf_hub = None, output_representation = 'pooled_output', trainable = False, **kwargs):\n",
        "        \n",
        "        self.n_fine_tune_layers = n_fine_tune_layers\n",
        "        self.is_trainble = trainable\n",
        "        self.output_size = 768\n",
        "        self.tf_hub = tf_hub\n",
        "        self.output_representation = output_representation\n",
        "        self.supports_masking = True\n",
        "        \n",
        "        super(BertLayer, self).__init__(**kwargs)\n",
        " \n",
        "    def build(self, input_shape):\n",
        " \n",
        "        self.bert = hub.Module(\n",
        "            self.tf_hub,\n",
        "            trainable=self.is_trainble,\n",
        "            name=\"{}_module\".format(self.name)\n",
        "        )\n",
        "        \n",
        "        \n",
        "        variables = list(self.bert.variable_map.values())\n",
        "        if self.is_trainble:\n",
        "            # 1 first remove unused layers\n",
        "            trainable_vars = [var for var in variables if not \"/cls/\" in var.name]\n",
        "            \n",
        "            \n",
        "            if self.output_representation == \"sequence_output\" or self.output_representation == \"mean_pooling\":\n",
        "                # 1 first remove unused pooled layers\n",
        "                trainable_vars = [var for var in trainable_vars if not \"/pooler/\" in var.name]\n",
        "                \n",
        "            # Select how many layers to fine tune\n",
        "            trainable_vars = trainable_vars[-self.n_fine_tune_layers :]\n",
        "            \n",
        "            # Add to trainable weights\n",
        "            for var in trainable_vars:\n",
        "                self._trainable_weights.append(var)\n",
        " \n",
        "            # Add non-trainable weights\n",
        "            for var in self.bert.variables:\n",
        "                if var not in self._trainable_weights:\n",
        "                    self._non_trainable_weights.append(var)\n",
        "                \n",
        "        else:\n",
        "             for var in variables:\n",
        "                self._non_trainable_weights.append(var)\n",
        "                \n",
        " \n",
        "        super(BertLayer, self).build(input_shape)\n",
        " \n",
        "    def compute_mask(self, inputs, mask=None):\n",
        "        \n",
        "        if self.output_representation == 'sequence_output':\n",
        "            inputs = [K.cast(x, dtype=\"bool\") for x in inputs]\n",
        "            mask = inputs[1]\n",
        "            \n",
        "            return mask\n",
        "        else:\n",
        "            return None\n",
        "        \n",
        "        \n",
        "    def compute_output_shape(self, input_shape):\n",
        "        if self.output_representation == \"sequence_output\":\n",
        "            return (input_shape[0][0], input_shape[0][1], self.output_size)\n",
        "        else:\n",
        "            return (input_shape[0][0], self.output_size)"
      ],
      "metadata": {
        "id": "dwlNctx1IswT"
      },
      "execution_count": 14,
      "outputs": []
    },
    {
      "cell_type": "code",
      "source": [
        "import keras\n",
        " \n",
        "def build_model(max_seq_length, tf_hub, n_classes, n_fine_tune): \n",
        "    in_id = keras.layers.Input(shape=(max_seq_length,), name=\"input_ids\") #token단위\n",
        "    in_mask = keras.layers.Input(shape=(max_seq_length,), name=\"input_masks\")\n",
        "    in_segment = keras.layers.Input(shape=(max_seq_length,), name=\"segment_ids\")\n",
        "    bert_inputs = [in_id, in_mask, in_segment]\n",
        "    \n",
        "    bert_output = BertLayer(n_fine_tune_layers=n_fine_tune, tf_hub = tf_hub, output_representation = 'mean_pooling', trainable = True)(bert_inputs)\n",
        "    drop = keras.layers.Dropout(0.3)(bert_output)\n",
        "    dense = keras.layers.Dense(256, activation='sigmoid')(drop)\n",
        "    drop = keras.layers.Dropout(0.3)(dense)\n",
        "    dense = keras.layers.Dense(64, activation='sigmoid')(drop)\n",
        "    pred = keras.layers.Dense(n_classes, activation='softmax')(dense)\n",
        "    \n",
        "    model = keras.models.Model(inputs=bert_inputs, outputs=pred)\n",
        "    Adam = keras.optimizers.Adam(lr = 0.0005)\n",
        "    model.compile(loss='sparse_categorical_crossentropy', optimizer=Adam, metrics=['sparse_categorical_accuracy'])\n",
        "    model.summary()\n",
        " \n",
        "    return model"
      ],
      "metadata": {
        "id": "H_f9OpZsJ_Fz"
      },
      "execution_count": 15,
      "outputs": []
    },
    {
      "cell_type": "code",
      "source": [
        "def initialize_vars(sess):\n",
        "    sess.run(tf.local_variables_initializer())\n",
        "    sess.run(tf.global_variables_initializer())\n",
        "    sess.run(tf.tables_initializer())\n",
        "    K.set_session(sess)\n",
        "n_classes = len(label_encoder.classes_)\n",
        "n_fine_tune_layers = 48\n",
        "n_classes"
      ],
      "metadata": {
        "colab": {
          "base_uri": "https://localhost:8080/"
        },
        "id": "qn0pH2btKOv4",
        "outputId": "734b59e2-87a4-446d-bfc1-cae6b32aeb0a"
      },
      "execution_count": 20,
      "outputs": [
        {
          "output_type": "execute_result",
          "data": {
            "text/plain": [
              "6"
            ]
          },
          "metadata": {},
          "execution_count": 20
        }
      ]
    },
    {
      "cell_type": "code",
      "source": [
        "model = build_model(max_seq_length, bert_path, n_classes, n_fine_tune_layers)\n",
        " \n",
        "# Instantiate variables\n",
        "initialize_vars(sess)"
      ],
      "metadata": {
        "colab": {
          "base_uri": "https://localhost:8080/",
          "height": 397
        },
        "id": "y0t5w7K4o3G7",
        "outputId": "9fabd749-5fcb-4cfa-d92c-3efc613607eb"
      },
      "execution_count": 21,
      "outputs": [
        {
          "output_type": "error",
          "ename": "IndexError",
          "evalue": "ignored",
          "traceback": [
            "\u001b[0;31m---------------------------------------------------------------------------\u001b[0m",
            "\u001b[0;31mIndexError\u001b[0m                                Traceback (most recent call last)",
            "\u001b[0;32m<ipython-input-21-855af911ec74>\u001b[0m in \u001b[0;36m<module>\u001b[0;34m()\u001b[0m\n\u001b[0;32m----> 1\u001b[0;31m \u001b[0mmodel\u001b[0m \u001b[0;34m=\u001b[0m \u001b[0mbuild_model\u001b[0m\u001b[0;34m(\u001b[0m\u001b[0mmax_seq_length\u001b[0m\u001b[0;34m,\u001b[0m \u001b[0mbert_path\u001b[0m\u001b[0;34m,\u001b[0m \u001b[0mn_classes\u001b[0m\u001b[0;34m,\u001b[0m \u001b[0mn_fine_tune_layers\u001b[0m\u001b[0;34m)\u001b[0m\u001b[0;34m\u001b[0m\u001b[0;34m\u001b[0m\u001b[0m\n\u001b[0m\u001b[1;32m      2\u001b[0m \u001b[0;34m\u001b[0m\u001b[0m\n\u001b[1;32m      3\u001b[0m \u001b[0;31m# Instantiate variables\u001b[0m\u001b[0;34m\u001b[0m\u001b[0;34m\u001b[0m\u001b[0;34m\u001b[0m\u001b[0m\n\u001b[1;32m      4\u001b[0m \u001b[0minitialize_vars\u001b[0m\u001b[0;34m(\u001b[0m\u001b[0msess\u001b[0m\u001b[0;34m)\u001b[0m\u001b[0;34m\u001b[0m\u001b[0;34m\u001b[0m\u001b[0m\n",
            "\u001b[0;32m<ipython-input-15-c5d62e5da7c7>\u001b[0m in \u001b[0;36mbuild_model\u001b[0;34m(max_seq_length, tf_hub, n_classes, n_fine_tune)\u001b[0m\n\u001b[1;32m      7\u001b[0m     \u001b[0mbert_inputs\u001b[0m \u001b[0;34m=\u001b[0m \u001b[0;34m[\u001b[0m\u001b[0min_id\u001b[0m\u001b[0;34m,\u001b[0m \u001b[0min_mask\u001b[0m\u001b[0;34m,\u001b[0m \u001b[0min_segment\u001b[0m\u001b[0;34m]\u001b[0m\u001b[0;34m\u001b[0m\u001b[0;34m\u001b[0m\u001b[0m\n\u001b[1;32m      8\u001b[0m \u001b[0;34m\u001b[0m\u001b[0m\n\u001b[0;32m----> 9\u001b[0;31m     \u001b[0mbert_output\u001b[0m \u001b[0;34m=\u001b[0m \u001b[0mBertLayer\u001b[0m\u001b[0;34m(\u001b[0m\u001b[0mn_fine_tune_layers\u001b[0m\u001b[0;34m=\u001b[0m\u001b[0mn_fine_tune\u001b[0m\u001b[0;34m,\u001b[0m \u001b[0mtf_hub\u001b[0m \u001b[0;34m=\u001b[0m \u001b[0mtf_hub\u001b[0m\u001b[0;34m,\u001b[0m \u001b[0moutput_representation\u001b[0m \u001b[0;34m=\u001b[0m \u001b[0;34m'mean_pooling'\u001b[0m\u001b[0;34m,\u001b[0m \u001b[0mtrainable\u001b[0m \u001b[0;34m=\u001b[0m \u001b[0;32mTrue\u001b[0m\u001b[0;34m)\u001b[0m\u001b[0;34m(\u001b[0m\u001b[0mbert_inputs\u001b[0m\u001b[0;34m)\u001b[0m\u001b[0;34m\u001b[0m\u001b[0;34m\u001b[0m\u001b[0m\n\u001b[0m\u001b[1;32m     10\u001b[0m     \u001b[0mdrop\u001b[0m \u001b[0;34m=\u001b[0m \u001b[0mkeras\u001b[0m\u001b[0;34m.\u001b[0m\u001b[0mlayers\u001b[0m\u001b[0;34m.\u001b[0m\u001b[0mDropout\u001b[0m\u001b[0;34m(\u001b[0m\u001b[0;36m0.3\u001b[0m\u001b[0;34m)\u001b[0m\u001b[0;34m(\u001b[0m\u001b[0mbert_output\u001b[0m\u001b[0;34m)\u001b[0m\u001b[0;34m\u001b[0m\u001b[0;34m\u001b[0m\u001b[0m\n\u001b[1;32m     11\u001b[0m     \u001b[0mdense\u001b[0m \u001b[0;34m=\u001b[0m \u001b[0mkeras\u001b[0m\u001b[0;34m.\u001b[0m\u001b[0mlayers\u001b[0m\u001b[0;34m.\u001b[0m\u001b[0mDense\u001b[0m\u001b[0;34m(\u001b[0m\u001b[0;36m256\u001b[0m\u001b[0;34m,\u001b[0m \u001b[0mactivation\u001b[0m\u001b[0;34m=\u001b[0m\u001b[0;34m'sigmoid'\u001b[0m\u001b[0;34m)\u001b[0m\u001b[0;34m(\u001b[0m\u001b[0mdrop\u001b[0m\u001b[0;34m)\u001b[0m\u001b[0;34m\u001b[0m\u001b[0;34m\u001b[0m\u001b[0m\n",
            "\u001b[0;32m/tensorflow-1.15.2/python3.7/keras/engine/base_layer.py\u001b[0m in \u001b[0;36m__call__\u001b[0;34m(self, inputs, **kwargs)\u001b[0m\n\u001b[1;32m    527\u001b[0m                                    \u001b[0minput_shapes\u001b[0m\u001b[0;34m=\u001b[0m\u001b[0minput_shape\u001b[0m\u001b[0;34m,\u001b[0m\u001b[0;34m\u001b[0m\u001b[0;34m\u001b[0m\u001b[0m\n\u001b[1;32m    528\u001b[0m                                    \u001b[0moutput_shapes\u001b[0m\u001b[0;34m=\u001b[0m\u001b[0moutput_shape\u001b[0m\u001b[0;34m,\u001b[0m\u001b[0;34m\u001b[0m\u001b[0;34m\u001b[0m\u001b[0m\n\u001b[0;32m--> 529\u001b[0;31m                                    arguments=user_kwargs)\n\u001b[0m\u001b[1;32m    530\u001b[0m \u001b[0;34m\u001b[0m\u001b[0m\n\u001b[1;32m    531\u001b[0m             \u001b[0;31m# Apply activity regularizer if any:\u001b[0m\u001b[0;34m\u001b[0m\u001b[0;34m\u001b[0m\u001b[0;34m\u001b[0m\u001b[0m\n",
            "\u001b[0;32m/tensorflow-1.15.2/python3.7/keras/engine/base_layer.py\u001b[0m in \u001b[0;36m_add_inbound_node\u001b[0;34m(self, input_tensors, output_tensors, input_masks, output_masks, input_shapes, output_shapes, arguments)\u001b[0m\n\u001b[1;32m    595\u001b[0m         \u001b[0;31m# Update tensor history, _keras_shape and _uses_learning_phase.\u001b[0m\u001b[0;34m\u001b[0m\u001b[0;34m\u001b[0m\u001b[0;34m\u001b[0m\u001b[0m\n\u001b[1;32m    596\u001b[0m         \u001b[0;32mfor\u001b[0m \u001b[0mi\u001b[0m \u001b[0;32min\u001b[0m \u001b[0mrange\u001b[0m\u001b[0;34m(\u001b[0m\u001b[0mlen\u001b[0m\u001b[0;34m(\u001b[0m\u001b[0moutput_tensors\u001b[0m\u001b[0;34m)\u001b[0m\u001b[0;34m)\u001b[0m\u001b[0;34m:\u001b[0m\u001b[0;34m\u001b[0m\u001b[0;34m\u001b[0m\u001b[0m\n\u001b[0;32m--> 597\u001b[0;31m             \u001b[0moutput_tensors\u001b[0m\u001b[0;34m[\u001b[0m\u001b[0mi\u001b[0m\u001b[0;34m]\u001b[0m\u001b[0;34m.\u001b[0m\u001b[0m_keras_shape\u001b[0m \u001b[0;34m=\u001b[0m \u001b[0moutput_shapes\u001b[0m\u001b[0;34m[\u001b[0m\u001b[0mi\u001b[0m\u001b[0;34m]\u001b[0m\u001b[0;34m\u001b[0m\u001b[0;34m\u001b[0m\u001b[0m\n\u001b[0m\u001b[1;32m    598\u001b[0m             uses_lp = any(\n\u001b[1;32m    599\u001b[0m                 [getattr(x, '_uses_learning_phase', False)\n",
            "\u001b[0;31mIndexError\u001b[0m: list index out of range"
          ]
        }
      ]
    },
    {
      "cell_type": "code",
      "source": [
        ""
      ],
      "metadata": {
        "id": "GBXXWEOjJfK1"
      },
      "execution_count": null,
      "outputs": []
    },
    {
      "cell_type": "markdown",
      "source": [
        "알 수 없는 오류 발생..."
      ],
      "metadata": {
        "id": "9g5iSpuMB-cc"
      }
    },
    {
      "cell_type": "markdown",
      "source": [
        "![4.PNG](data:image/png;base64,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)"
      ],
      "metadata": {
        "id": "9CEobj8LCfFb"
      }
    },
    {
      "cell_type": "code",
      "source": [
        "class InputExample(object):\n",
        "    \"\"\"A single training/test example for simple sequence classification.\"\"\"\n",
        " \n",
        "    def __init__(self, guid, text_a, text_b=None, label=None):\n",
        "        \"\"\"Constructs a InputExample.\n",
        "    Args:\n",
        "      guid: Unique id for the example.\n",
        "      text_a: string. The untokenized text of the first sequence. For single\n",
        "        sequence tasks, only this sequence must be specified.\n",
        "      text_b: (Optional) string. The untokenized text of the second sequence.\n",
        "        Only must be specified for sequence pair tasks.\n",
        "      label: (Optional) string. The label of the example. This should be\n",
        "        specified for train and dev examples, but not for test examples.\n",
        "    \"\"\"\n",
        "        self.guid = guid\n",
        "        self.text_a = text_a\n",
        "        self.text_b = text_b\n",
        "        self.label = label\n",
        " \n",
        "def create_tokenizer_from_hub_module(tf_hub):\n",
        "    \"\"\"Get the vocab file and casing info from the Hub module.\"\"\"\n",
        "    bert_module =  hub.Module(tf_hub)\n",
        "    tokenization_info = bert_module(signature=\"tokenization_info\", as_dict=True)\n",
        "    vocab_file, do_lower_case = sess.run(\n",
        "        [\n",
        "            tokenization_info[\"vocab_file\"],\n",
        "            tokenization_info[\"do_lower_case\"],\n",
        "        ]\n",
        "    )\n",
        "    \n",
        "    return FullTokenizer(vocab_file=vocab_file, do_lower_case=do_lower_case)"
      ],
      "metadata": {
        "id": "cNOGeCUlIp9N"
      },
      "execution_count": null,
      "outputs": []
    },
    {
      "cell_type": "code",
      "source": [
        "def convert_single_example(tokenizer, example, max_seq_length=256):\n",
        "    \"\"\"Converts a single `InputExample` into a single `InputFeatures`.\"\"\"\n",
        "    if isinstance(example, PaddingInputExample):\n",
        "        input_ids = [0] * max_seq_length\n",
        "        input_mask = [0] * max_seq_length\n",
        "        segment_ids = [0] * max_seq_length\n",
        "        label = 0\n",
        "        return input_ids, input_mask, segment_ids, label\n",
        "    tokens_a = tokenizer.tokenize(example.text_a)\n",
        "    if len(tokens_a) > max_seq_length - 2:\n",
        "        tokens_a = tokens_a[0 : (max_seq_length - 2)]\n",
        "    tokens = []\n",
        "    segment_ids = []\n",
        "    tokens.append(\"[CLS]\")\n",
        "    segment_ids.append(0)\n",
        "    for token in tokens_a:\n",
        "        tokens.append(token)\n",
        "        segment_ids.append(0)\n",
        "    tokens.append(\"[SEP]\")\n",
        "    segment_ids.append(0)\n",
        "    \n",
        "    #print(tokens)\n",
        "    input_ids = tokenizer.convert_tokens_to_ids(tokens)\n",
        "    # The mask has 1 for real tokens and 0 for padding tokens. Only real\n",
        "    # tokens are attended to.\n",
        "    input_mask = [1] * len(input_ids)\n",
        "    # Zero-pad up to the sequence length.\n",
        "    while len(input_ids) < max_seq_length:\n",
        "        input_ids.append(0)\n",
        "        input_mask.append(0)\n",
        "        segment_ids.append(0)\n",
        "    assert len(input_ids) == max_seq_length\n",
        "    assert len(input_mask) == max_seq_length\n",
        "    assert len(segment_ids) == max_seq_length\n",
        "    return input_ids, input_mask, segment_ids, example.label"
      ],
      "metadata": {
        "id": "9jvTJOWYFYcZ"
      },
      "execution_count": null,
      "outputs": []
    },
    {
      "cell_type": "code",
      "source": [
        "def convert_examples_to_features(tokenizer, examples, max_seq_length=256):\n",
        "    \"\"\"Convert a set of `InputExample`s to a list of `InputFeatures`.\"\"\"\n",
        " \n",
        "    input_ids, input_masks, segment_ids, labels = [], [], [], []\n",
        "    for example in tqdm_notebook(examples, desc=\"Converting examples to features\"):\n",
        "        input_id, input_mask, segment_id, label = convert_single_example(\n",
        "            tokenizer, example, max_seq_length\n",
        "        )\n",
        "        input_ids.append(input_id)\n",
        "        input_masks.append(input_mask)\n",
        "        segment_ids.append(segment_id)\n",
        "        labels.append(label)\n",
        "    return (\n",
        "        np.array(input_ids),\n",
        "        np.array(input_masks),\n",
        "        np.array(segment_ids),\n",
        "        np.array(labels).reshape(-1, 1),\n",
        "    )\n",
        " \n",
        "def convert_text_to_examples(texts, labels):\n",
        "    \"\"\"Create InputExamples\"\"\"\n",
        "    InputExamples = []\n",
        "    for text, label in zip(texts, labels):\n",
        "        InputExamples.append(\n",
        "            InputExample(guid=None, text_a=\" \".join(text), text_b=None, label=label)\n",
        "        )\n",
        "    return InputExamples"
      ],
      "metadata": {
        "id": "J-htLx_GEWB8"
      },
      "execution_count": null,
      "outputs": []
    },
    {
      "cell_type": "code",
      "source": [
        "# 토크나이저 초기화\n",
        "tokenizer = create_tokenizer_from_hub_module(bert_path)\n",
        " \n",
        "# 데이터를 입력포멧으로 변환\n",
        "train_examples = convert_text_to_examples(train_text, train_label)\n",
        "val_examples = convert_text_to_examples(val_text, val_label)\n",
        " \n",
        "# 피쳐로 변환\n",
        "(train_input_ids, train_input_masks, train_segment_ids, train_labels \n",
        ") = convert_examples_to_features(tokenizer, train_examples, max_seq_length=max_seq_length)\n",
        "(val_input_ids, val_input_masks, val_segment_ids, val_labels\n",
        ") = convert_examples_to_features(tokenizer, val_examples, max_seq_length=max_seq_length)"
      ],
      "metadata": {
        "id": "5apxaIecDhNL"
      },
      "execution_count": null,
      "outputs": []
    },
    {
      "cell_type": "code",
      "source": [
        "from keras.callbacks import EarlyStopping\n",
        " \n",
        "BATCH_SIZE = 256\n",
        "MONITOR = 'val_sparse_categorical_accuracy'\n",
        "print('BATCH_SIZE is {}'.format(BATCH_SIZE))\n",
        "e_stopping = EarlyStopping(monitor=MONITOR, patience=3, verbose=1, mode='max', restore_best_weights=True)\n",
        "callbacks =  [e_stopping]\n",
        " \n",
        "history = model.fit(\n",
        "   [train_input_ids, train_input_masks, train_segment_ids], \n",
        "    train_labels,\n",
        "    validation_data = ([val_input_ids, val_input_masks, val_segment_ids], val_labels),\n",
        "    epochs = 10,\n",
        "    verbose = 1,\n",
        "    batch_size = BATCH_SIZE,\n",
        "    callbacks= callbacks\n",
        ")"
      ],
      "metadata": {
        "id": "VBowhctFDkBg"
      },
      "execution_count": null,
      "outputs": []
    }
  ]
}